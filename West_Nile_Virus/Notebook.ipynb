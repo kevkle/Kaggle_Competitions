{
 "cells": [
  {
   "cell_type": "code",
   "execution_count": 1,
   "metadata": {},
   "outputs": [],
   "source": [
    "import pandas as pd\n",
    "import numpy as np \n",
    "import os\n",
    "import matplotlib.pyplot as plt"
   ]
  },
  {
   "cell_type": "code",
   "execution_count": 2,
   "metadata": {},
   "outputs": [],
   "source": [
    "train = pd.read_csv('input/train.csv')\n",
    "test = pd.read_csv('input/test.csv')\n",
    "spray = pd.read_csv('input/spray.csv')\n",
    "weather = pd.read_csv('input/weather.csv')\n",
    "sample = pd.read_csv('input/sampleSubmission.csv')"
   ]
  },
  {
   "cell_type": "code",
   "execution_count": 3,
   "metadata": {},
   "outputs": [
    {
     "data": {
      "text/html": [
       "<div>\n",
       "<style scoped>\n",
       "    .dataframe tbody tr th:only-of-type {\n",
       "        vertical-align: middle;\n",
       "    }\n",
       "\n",
       "    .dataframe tbody tr th {\n",
       "        vertical-align: top;\n",
       "    }\n",
       "\n",
       "    .dataframe thead th {\n",
       "        text-align: right;\n",
       "    }\n",
       "</style>\n",
       "<table border=\"1\" class=\"dataframe\">\n",
       "  <thead>\n",
       "    <tr style=\"text-align: right;\">\n",
       "      <th></th>\n",
       "      <th>Date</th>\n",
       "      <th>Address</th>\n",
       "      <th>Species</th>\n",
       "      <th>Block</th>\n",
       "      <th>Street</th>\n",
       "      <th>Trap</th>\n",
       "      <th>AddressNumberAndStreet</th>\n",
       "      <th>Latitude</th>\n",
       "      <th>Longitude</th>\n",
       "      <th>AddressAccuracy</th>\n",
       "      <th>NumMosquitos</th>\n",
       "      <th>WnvPresent</th>\n",
       "    </tr>\n",
       "  </thead>\n",
       "  <tbody>\n",
       "    <tr>\n",
       "      <th>0</th>\n",
       "      <td>2007-05-29</td>\n",
       "      <td>4100 North Oak Park Avenue, Chicago, IL 60634,...</td>\n",
       "      <td>CULEX PIPIENS/RESTUANS</td>\n",
       "      <td>41</td>\n",
       "      <td>N OAK PARK AVE</td>\n",
       "      <td>T002</td>\n",
       "      <td>4100  N OAK PARK AVE, Chicago, IL</td>\n",
       "      <td>41.954690</td>\n",
       "      <td>-87.800991</td>\n",
       "      <td>9</td>\n",
       "      <td>1</td>\n",
       "      <td>0</td>\n",
       "    </tr>\n",
       "    <tr>\n",
       "      <th>1</th>\n",
       "      <td>2007-05-29</td>\n",
       "      <td>4100 North Oak Park Avenue, Chicago, IL 60634,...</td>\n",
       "      <td>CULEX RESTUANS</td>\n",
       "      <td>41</td>\n",
       "      <td>N OAK PARK AVE</td>\n",
       "      <td>T002</td>\n",
       "      <td>4100  N OAK PARK AVE, Chicago, IL</td>\n",
       "      <td>41.954690</td>\n",
       "      <td>-87.800991</td>\n",
       "      <td>9</td>\n",
       "      <td>1</td>\n",
       "      <td>0</td>\n",
       "    </tr>\n",
       "    <tr>\n",
       "      <th>2</th>\n",
       "      <td>2007-05-29</td>\n",
       "      <td>6200 North Mandell Avenue, Chicago, IL 60646, USA</td>\n",
       "      <td>CULEX RESTUANS</td>\n",
       "      <td>62</td>\n",
       "      <td>N MANDELL AVE</td>\n",
       "      <td>T007</td>\n",
       "      <td>6200  N MANDELL AVE, Chicago, IL</td>\n",
       "      <td>41.994991</td>\n",
       "      <td>-87.769279</td>\n",
       "      <td>9</td>\n",
       "      <td>1</td>\n",
       "      <td>0</td>\n",
       "    </tr>\n",
       "    <tr>\n",
       "      <th>3</th>\n",
       "      <td>2007-05-29</td>\n",
       "      <td>7900 West Foster Avenue, Chicago, IL 60656, USA</td>\n",
       "      <td>CULEX PIPIENS/RESTUANS</td>\n",
       "      <td>79</td>\n",
       "      <td>W FOSTER AVE</td>\n",
       "      <td>T015</td>\n",
       "      <td>7900  W FOSTER AVE, Chicago, IL</td>\n",
       "      <td>41.974089</td>\n",
       "      <td>-87.824812</td>\n",
       "      <td>8</td>\n",
       "      <td>1</td>\n",
       "      <td>0</td>\n",
       "    </tr>\n",
       "    <tr>\n",
       "      <th>4</th>\n",
       "      <td>2007-05-29</td>\n",
       "      <td>7900 West Foster Avenue, Chicago, IL 60656, USA</td>\n",
       "      <td>CULEX RESTUANS</td>\n",
       "      <td>79</td>\n",
       "      <td>W FOSTER AVE</td>\n",
       "      <td>T015</td>\n",
       "      <td>7900  W FOSTER AVE, Chicago, IL</td>\n",
       "      <td>41.974089</td>\n",
       "      <td>-87.824812</td>\n",
       "      <td>8</td>\n",
       "      <td>4</td>\n",
       "      <td>0</td>\n",
       "    </tr>\n",
       "  </tbody>\n",
       "</table>\n",
       "</div>"
      ],
      "text/plain": [
       "         Date                                            Address  \\\n",
       "0  2007-05-29  4100 North Oak Park Avenue, Chicago, IL 60634,...   \n",
       "1  2007-05-29  4100 North Oak Park Avenue, Chicago, IL 60634,...   \n",
       "2  2007-05-29  6200 North Mandell Avenue, Chicago, IL 60646, USA   \n",
       "3  2007-05-29    7900 West Foster Avenue, Chicago, IL 60656, USA   \n",
       "4  2007-05-29    7900 West Foster Avenue, Chicago, IL 60656, USA   \n",
       "\n",
       "                  Species  Block           Street  Trap  \\\n",
       "0  CULEX PIPIENS/RESTUANS     41   N OAK PARK AVE  T002   \n",
       "1          CULEX RESTUANS     41   N OAK PARK AVE  T002   \n",
       "2          CULEX RESTUANS     62    N MANDELL AVE  T007   \n",
       "3  CULEX PIPIENS/RESTUANS     79     W FOSTER AVE  T015   \n",
       "4          CULEX RESTUANS     79     W FOSTER AVE  T015   \n",
       "\n",
       "              AddressNumberAndStreet   Latitude  Longitude  AddressAccuracy  \\\n",
       "0  4100  N OAK PARK AVE, Chicago, IL  41.954690 -87.800991                9   \n",
       "1  4100  N OAK PARK AVE, Chicago, IL  41.954690 -87.800991                9   \n",
       "2   6200  N MANDELL AVE, Chicago, IL  41.994991 -87.769279                9   \n",
       "3    7900  W FOSTER AVE, Chicago, IL  41.974089 -87.824812                8   \n",
       "4    7900  W FOSTER AVE, Chicago, IL  41.974089 -87.824812                8   \n",
       "\n",
       "   NumMosquitos  WnvPresent  \n",
       "0             1           0  \n",
       "1             1           0  \n",
       "2             1           0  \n",
       "3             1           0  \n",
       "4             4           0  "
      ]
     },
     "execution_count": 3,
     "metadata": {},
     "output_type": "execute_result"
    }
   ],
   "source": [
    "train.head()"
   ]
  },
  {
   "cell_type": "code",
   "execution_count": 4,
   "metadata": {},
   "outputs": [
    {
     "data": {
      "text/html": [
       "<div>\n",
       "<style scoped>\n",
       "    .dataframe tbody tr th:only-of-type {\n",
       "        vertical-align: middle;\n",
       "    }\n",
       "\n",
       "    .dataframe tbody tr th {\n",
       "        vertical-align: top;\n",
       "    }\n",
       "\n",
       "    .dataframe thead th {\n",
       "        text-align: right;\n",
       "    }\n",
       "</style>\n",
       "<table border=\"1\" class=\"dataframe\">\n",
       "  <thead>\n",
       "    <tr style=\"text-align: right;\">\n",
       "      <th></th>\n",
       "      <th>Station</th>\n",
       "      <th>Date</th>\n",
       "      <th>Tmax</th>\n",
       "      <th>Tmin</th>\n",
       "      <th>Tavg</th>\n",
       "      <th>Depart</th>\n",
       "      <th>DewPoint</th>\n",
       "      <th>WetBulb</th>\n",
       "      <th>Heat</th>\n",
       "      <th>Cool</th>\n",
       "      <th>...</th>\n",
       "      <th>CodeSum</th>\n",
       "      <th>Depth</th>\n",
       "      <th>Water1</th>\n",
       "      <th>SnowFall</th>\n",
       "      <th>PrecipTotal</th>\n",
       "      <th>StnPressure</th>\n",
       "      <th>SeaLevel</th>\n",
       "      <th>ResultSpeed</th>\n",
       "      <th>ResultDir</th>\n",
       "      <th>AvgSpeed</th>\n",
       "    </tr>\n",
       "  </thead>\n",
       "  <tbody>\n",
       "    <tr>\n",
       "      <th>0</th>\n",
       "      <td>1</td>\n",
       "      <td>2007-05-01</td>\n",
       "      <td>83</td>\n",
       "      <td>50</td>\n",
       "      <td>67</td>\n",
       "      <td>14</td>\n",
       "      <td>51</td>\n",
       "      <td>56</td>\n",
       "      <td>0</td>\n",
       "      <td>2</td>\n",
       "      <td>...</td>\n",
       "      <td></td>\n",
       "      <td>0</td>\n",
       "      <td>M</td>\n",
       "      <td>0.0</td>\n",
       "      <td>0.00</td>\n",
       "      <td>29.10</td>\n",
       "      <td>29.82</td>\n",
       "      <td>1.7</td>\n",
       "      <td>27</td>\n",
       "      <td>9.2</td>\n",
       "    </tr>\n",
       "    <tr>\n",
       "      <th>1</th>\n",
       "      <td>2</td>\n",
       "      <td>2007-05-01</td>\n",
       "      <td>84</td>\n",
       "      <td>52</td>\n",
       "      <td>68</td>\n",
       "      <td>M</td>\n",
       "      <td>51</td>\n",
       "      <td>57</td>\n",
       "      <td>0</td>\n",
       "      <td>3</td>\n",
       "      <td>...</td>\n",
       "      <td></td>\n",
       "      <td>M</td>\n",
       "      <td>M</td>\n",
       "      <td>M</td>\n",
       "      <td>0.00</td>\n",
       "      <td>29.18</td>\n",
       "      <td>29.82</td>\n",
       "      <td>2.7</td>\n",
       "      <td>25</td>\n",
       "      <td>9.6</td>\n",
       "    </tr>\n",
       "    <tr>\n",
       "      <th>2</th>\n",
       "      <td>1</td>\n",
       "      <td>2007-05-02</td>\n",
       "      <td>59</td>\n",
       "      <td>42</td>\n",
       "      <td>51</td>\n",
       "      <td>-3</td>\n",
       "      <td>42</td>\n",
       "      <td>47</td>\n",
       "      <td>14</td>\n",
       "      <td>0</td>\n",
       "      <td>...</td>\n",
       "      <td>BR</td>\n",
       "      <td>0</td>\n",
       "      <td>M</td>\n",
       "      <td>0.0</td>\n",
       "      <td>0.00</td>\n",
       "      <td>29.38</td>\n",
       "      <td>30.09</td>\n",
       "      <td>13.0</td>\n",
       "      <td>4</td>\n",
       "      <td>13.4</td>\n",
       "    </tr>\n",
       "    <tr>\n",
       "      <th>3</th>\n",
       "      <td>2</td>\n",
       "      <td>2007-05-02</td>\n",
       "      <td>60</td>\n",
       "      <td>43</td>\n",
       "      <td>52</td>\n",
       "      <td>M</td>\n",
       "      <td>42</td>\n",
       "      <td>47</td>\n",
       "      <td>13</td>\n",
       "      <td>0</td>\n",
       "      <td>...</td>\n",
       "      <td>BR HZ</td>\n",
       "      <td>M</td>\n",
       "      <td>M</td>\n",
       "      <td>M</td>\n",
       "      <td>0.00</td>\n",
       "      <td>29.44</td>\n",
       "      <td>30.08</td>\n",
       "      <td>13.3</td>\n",
       "      <td>2</td>\n",
       "      <td>13.4</td>\n",
       "    </tr>\n",
       "    <tr>\n",
       "      <th>4</th>\n",
       "      <td>1</td>\n",
       "      <td>2007-05-03</td>\n",
       "      <td>66</td>\n",
       "      <td>46</td>\n",
       "      <td>56</td>\n",
       "      <td>2</td>\n",
       "      <td>40</td>\n",
       "      <td>48</td>\n",
       "      <td>9</td>\n",
       "      <td>0</td>\n",
       "      <td>...</td>\n",
       "      <td></td>\n",
       "      <td>0</td>\n",
       "      <td>M</td>\n",
       "      <td>0.0</td>\n",
       "      <td>0.00</td>\n",
       "      <td>29.39</td>\n",
       "      <td>30.12</td>\n",
       "      <td>11.7</td>\n",
       "      <td>7</td>\n",
       "      <td>11.9</td>\n",
       "    </tr>\n",
       "  </tbody>\n",
       "</table>\n",
       "<p>5 rows × 22 columns</p>\n",
       "</div>"
      ],
      "text/plain": [
       "   Station        Date  Tmax  Tmin Tavg Depart  DewPoint WetBulb Heat Cool  \\\n",
       "0        1  2007-05-01    83    50   67     14        51      56    0    2   \n",
       "1        2  2007-05-01    84    52   68      M        51      57    0    3   \n",
       "2        1  2007-05-02    59    42   51     -3        42      47   14    0   \n",
       "3        2  2007-05-02    60    43   52      M        42      47   13    0   \n",
       "4        1  2007-05-03    66    46   56      2        40      48    9    0   \n",
       "\n",
       "     ...    CodeSum Depth Water1 SnowFall PrecipTotal StnPressure SeaLevel  \\\n",
       "0    ...                0      M      0.0        0.00       29.10    29.82   \n",
       "1    ...                M      M        M        0.00       29.18    29.82   \n",
       "2    ...         BR     0      M      0.0        0.00       29.38    30.09   \n",
       "3    ...      BR HZ     M      M        M        0.00       29.44    30.08   \n",
       "4    ...                0      M      0.0        0.00       29.39    30.12   \n",
       "\n",
       "  ResultSpeed ResultDir  AvgSpeed  \n",
       "0         1.7        27       9.2  \n",
       "1         2.7        25       9.6  \n",
       "2        13.0         4      13.4  \n",
       "3        13.3         2      13.4  \n",
       "4        11.7         7      11.9  \n",
       "\n",
       "[5 rows x 22 columns]"
      ]
     },
     "execution_count": 4,
     "metadata": {},
     "output_type": "execute_result"
    }
   ],
   "source": [
    "weather.head()"
   ]
  },
  {
   "cell_type": "markdown",
   "metadata": {},
   "source": [
    "## Data Analysis"
   ]
  },
  {
   "cell_type": "code",
   "execution_count": 5,
   "metadata": {},
   "outputs": [
    {
     "data": {
      "text/html": [
       "<div>\n",
       "<style scoped>\n",
       "    .dataframe tbody tr th:only-of-type {\n",
       "        vertical-align: middle;\n",
       "    }\n",
       "\n",
       "    .dataframe tbody tr th {\n",
       "        vertical-align: top;\n",
       "    }\n",
       "\n",
       "    .dataframe thead th {\n",
       "        text-align: right;\n",
       "    }\n",
       "</style>\n",
       "<table border=\"1\" class=\"dataframe\">\n",
       "  <thead>\n",
       "    <tr style=\"text-align: right;\">\n",
       "      <th></th>\n",
       "      <th>Block</th>\n",
       "      <th>Latitude</th>\n",
       "      <th>Longitude</th>\n",
       "      <th>AddressAccuracy</th>\n",
       "      <th>NumMosquitos</th>\n",
       "      <th>WnvPresent</th>\n",
       "    </tr>\n",
       "  </thead>\n",
       "  <tbody>\n",
       "    <tr>\n",
       "      <th>count</th>\n",
       "      <td>10506.000000</td>\n",
       "      <td>10506.000000</td>\n",
       "      <td>10506.000000</td>\n",
       "      <td>10506.000000</td>\n",
       "      <td>10506.000000</td>\n",
       "      <td>10506.000000</td>\n",
       "    </tr>\n",
       "    <tr>\n",
       "      <th>mean</th>\n",
       "      <td>35.687797</td>\n",
       "      <td>41.841139</td>\n",
       "      <td>-87.699908</td>\n",
       "      <td>7.819532</td>\n",
       "      <td>12.853512</td>\n",
       "      <td>0.052446</td>\n",
       "    </tr>\n",
       "    <tr>\n",
       "      <th>std</th>\n",
       "      <td>24.339468</td>\n",
       "      <td>0.112742</td>\n",
       "      <td>0.096514</td>\n",
       "      <td>1.452921</td>\n",
       "      <td>16.133816</td>\n",
       "      <td>0.222936</td>\n",
       "    </tr>\n",
       "    <tr>\n",
       "      <th>min</th>\n",
       "      <td>10.000000</td>\n",
       "      <td>41.644612</td>\n",
       "      <td>-87.930995</td>\n",
       "      <td>3.000000</td>\n",
       "      <td>1.000000</td>\n",
       "      <td>0.000000</td>\n",
       "    </tr>\n",
       "    <tr>\n",
       "      <th>25%</th>\n",
       "      <td>12.000000</td>\n",
       "      <td>41.732984</td>\n",
       "      <td>-87.760070</td>\n",
       "      <td>8.000000</td>\n",
       "      <td>2.000000</td>\n",
       "      <td>0.000000</td>\n",
       "    </tr>\n",
       "    <tr>\n",
       "      <th>50%</th>\n",
       "      <td>33.000000</td>\n",
       "      <td>41.846283</td>\n",
       "      <td>-87.694991</td>\n",
       "      <td>8.000000</td>\n",
       "      <td>5.000000</td>\n",
       "      <td>0.000000</td>\n",
       "    </tr>\n",
       "    <tr>\n",
       "      <th>75%</th>\n",
       "      <td>52.000000</td>\n",
       "      <td>41.954690</td>\n",
       "      <td>-87.627796</td>\n",
       "      <td>9.000000</td>\n",
       "      <td>17.000000</td>\n",
       "      <td>0.000000</td>\n",
       "    </tr>\n",
       "    <tr>\n",
       "      <th>max</th>\n",
       "      <td>98.000000</td>\n",
       "      <td>42.017430</td>\n",
       "      <td>-87.531635</td>\n",
       "      <td>9.000000</td>\n",
       "      <td>50.000000</td>\n",
       "      <td>1.000000</td>\n",
       "    </tr>\n",
       "  </tbody>\n",
       "</table>\n",
       "</div>"
      ],
      "text/plain": [
       "              Block      Latitude     Longitude  AddressAccuracy  \\\n",
       "count  10506.000000  10506.000000  10506.000000     10506.000000   \n",
       "mean      35.687797     41.841139    -87.699908         7.819532   \n",
       "std       24.339468      0.112742      0.096514         1.452921   \n",
       "min       10.000000     41.644612    -87.930995         3.000000   \n",
       "25%       12.000000     41.732984    -87.760070         8.000000   \n",
       "50%       33.000000     41.846283    -87.694991         8.000000   \n",
       "75%       52.000000     41.954690    -87.627796         9.000000   \n",
       "max       98.000000     42.017430    -87.531635         9.000000   \n",
       "\n",
       "       NumMosquitos    WnvPresent  \n",
       "count  10506.000000  10506.000000  \n",
       "mean      12.853512      0.052446  \n",
       "std       16.133816      0.222936  \n",
       "min        1.000000      0.000000  \n",
       "25%        2.000000      0.000000  \n",
       "50%        5.000000      0.000000  \n",
       "75%       17.000000      0.000000  \n",
       "max       50.000000      1.000000  "
      ]
     },
     "execution_count": 5,
     "metadata": {},
     "output_type": "execute_result"
    }
   ],
   "source": [
    "train.describe()"
   ]
  },
  {
   "cell_type": "code",
   "execution_count": 6,
   "metadata": {},
   "outputs": [
    {
     "data": {
      "text/plain": [
       "Date                       95\n",
       "Address                   138\n",
       "Species                     7\n",
       "Block                      64\n",
       "Street                    128\n",
       "Trap                      136\n",
       "AddressNumberAndStreet    138\n",
       "Latitude                  138\n",
       "Longitude                 138\n",
       "AddressAccuracy             4\n",
       "NumMosquitos               50\n",
       "WnvPresent                  2\n",
       "dtype: int64"
      ]
     },
     "execution_count": 6,
     "metadata": {},
     "output_type": "execute_result"
    }
   ],
   "source": [
    "unique_numbers = train.nunique()\n",
    "unique_numbers"
   ]
  },
  {
   "cell_type": "code",
   "execution_count": 7,
   "metadata": {},
   "outputs": [
    {
     "data": {
      "text/plain": [
       "2.140625"
      ]
     },
     "execution_count": 7,
     "metadata": {},
     "output_type": "execute_result"
    }
   ],
   "source": [
    "block_trap = train.groupby('Block')['Trap'].nunique()\n",
    "block_trap.mean()"
   ]
  },
  {
   "cell_type": "code",
   "execution_count": 8,
   "metadata": {},
   "outputs": [
    {
     "data": {
      "image/png": "[encoded data removed]",
      "text/plain": [
       "<Figure size 432x288 with 1 Axes>"
      ]
     },
     "metadata": {
      "needs_background": "light"
     },
     "output_type": "display_data"
    }
   ],
   "source": [
    "species_present = train.groupby('Species')['WnvPresent'].mean()\n",
    "\n",
    "\n",
    "plt.figure()\n",
    "species_present.plot(kind='bar')\n",
    "plt.ylim([0.0, .2])\n",
    "plt.xlabel('Species')\n",
    "plt.ylabel('percentage with hit')\n",
    "plt.title('Share of virus per mosquito species')\n",
    "plt.show()\n",
    "#plt.hist(species_present)"
   ]
  },
  {
   "cell_type": "code",
   "execution_count": 9,
   "metadata": {},
   "outputs": [
    {
     "data": {
      "image/png": "[encoded data removed]",
      "text/plain": [
       "<Figure size 432x288 with 1 Axes>"
      ]
     },
     "metadata": {
      "needs_background": "light"
     },
     "output_type": "display_data"
    }
   ],
   "source": [
    "trap_present = train.groupby('Trap')['WnvPresent'].sum()\n",
    "trap = trap_present.sort_values(ascending = False)[:20]\n",
    "\n",
    "plt.figure()\n",
    "trap.plot(kind='bar')\n",
    "plt.ylim([0.0, 100])\n",
    "plt.xlabel('Traps')\n",
    "plt.ylabel('Number of infected mosquitos')\n",
    "plt.title('Infected mosquitos for 20 most hit traps')\n",
    "plt.show()"
   ]
  },
  {
   "cell_type": "code",
   "execution_count": 10,
   "metadata": {},
   "outputs": [
    {
     "name": "stdout",
     "output_type": "stream",
     "text": [
      "The share of infected mosquitos is 5.244622120692937 %\n"
     ]
    }
   ],
   "source": [
    "print(\"The share of infected mosquitos is\",sum(train['WnvPresent'])/len(train) * 100,\"%\")"
   ]
  },
  {
   "cell_type": "markdown",
   "metadata": {},
   "source": [
    "## Preprocessing / Feature engineering "
   ]
  },
  {
   "cell_type": "code",
   "execution_count": 11,
   "metadata": {},
   "outputs": [],
   "source": [
    "drop_cols = ['Address','AddressNumberAndStreet','AddressAccuracy','NumMosquitos','Street','Block']\n",
    "drop_cols_test = ['Id','Address','AddressNumberAndStreet','AddressAccuracy','Street','Block']\n",
    "\n",
    "train = train.drop(columns = drop_cols)\n",
    "test = test.drop(columns = drop_cols_test)"
   ]
  },
  {
   "cell_type": "code",
   "execution_count": 12,
   "metadata": {},
   "outputs": [],
   "source": [
    "train['Day'] = train['Date'].apply(lambda x: x.split('-')[2]).astype(int)\n",
    "train['Month'] = train['Date'].apply(lambda x: x.split('-')[1]).astype(int)\n",
    "test['Day'] = test['Date'].apply(lambda x: x.split('-')[2]).astype(int)\n",
    "test['Month'] = test['Date'].apply(lambda x: x.split('-')[1]).astype(int)"
   ]
  },
  {
   "cell_type": "markdown",
   "metadata": {},
   "source": [
    "Some feature engineering for weather data"
   ]
  },
  {
   "cell_type": "code",
   "execution_count": 13,
   "metadata": {},
   "outputs": [
    {
     "data": {
      "text/plain": [
       "Index(['Station', 'Date', 'Tmax', 'Tmin', 'Tavg', 'Depart', 'DewPoint',\n",
       "       'WetBulb', 'Heat', 'Cool', 'Sunrise', 'Sunset', 'CodeSum', 'Depth',\n",
       "       'Water1', 'SnowFall', 'PrecipTotal', 'StnPressure', 'SeaLevel',\n",
       "       'ResultSpeed', 'ResultDir', 'AvgSpeed'],\n",
       "      dtype='object')"
      ]
     },
     "execution_count": 13,
     "metadata": {},
     "output_type": "execute_result"
    }
   ],
   "source": [
    "weather.columns"
   ]
  },
  {
   "cell_type": "markdown",
   "metadata": {},
   "source": [
    "unique values of weather features"
   ]
  },
  {
   "cell_type": "code",
   "execution_count": 14,
   "metadata": {},
   "outputs": [
    {
     "data": {
      "text/plain": [
       "{'Station': array([1, 2]),\n",
       " 'Date': array(['2007-05-01', '2007-05-02', '2007-05-03', ..., '2014-10-29',\n",
       "        '2014-10-30', '2014-10-31'], dtype=object),\n",
       " 'Tmax': array([ 83,  84,  59,  60,  66,  67,  78,  68,  82,  80,  77,  76,  70,\n",
       "         73,  64,  65,  69,  90,  62,  61,  71,  79,  87,  89,  88,  75,\n",
       "         85,  86,  81,  72,  63,  91,  92,  93,  74,  94,  54,  53,  56,\n",
       "         57,  58,  55,  50,  95,  52,  47,  45,  51,  48,  44,  49,  46,\n",
       "         96,  99, 100, 101,  97,  98, 102, 103, 104,  42,  41]),\n",
       " 'Tmin': array([50, 52, 42, 43, 46, 48, 49, 51, 53, 54, 47, 60, 61, 63, 56, 59, 44,\n",
       "        57, 45, 55, 66, 65, 70, 68, 62, 67, 64, 58, 71, 69, 73, 75, 72, 74,\n",
       "        39, 41, 40, 37, 34, 38, 35, 36, 33, 31, 32, 76, 77, 29, 78, 79, 80,\n",
       "        81, 82, 83]),\n",
       " 'Tavg': array(['67', '68', '51', '52', '56', '58', 'M', '60', '59', '65', '70',\n",
       "        '69', '71', '61', '55', '57', '73', '72', '53', '62', '63', '74',\n",
       "        '75', '78', '76', '77', '66', '80', '64', '81', '82', '79', '85',\n",
       "        '84', '83', '50', '49', '46', '48', '45', '54', '47', '44', '40',\n",
       "        '41', '38', '39', '42', '37', '43', '86', '87', '89', '92', '88',\n",
       "        '91', '93', '94', '90', '36'], dtype=object),\n",
       " 'Depart': array(['14', 'M', '-3', ' 2', ' 4', ' 5', '10', '12', '13', '-2', '15',\n",
       "        '11', '-4', '-6', ' 8', '-5', ' 1', ' 9', ' 6', '-9', '-8', ' 3',\n",
       "        ' 0', '-1', '-7', ' 7', '-14', '18', '16', '22', '21', '20', '-10',\n",
       "        '-16', '17', '-12', '-11', '-15', '-17', '19', '-13', '23'],\n",
       "       dtype=object),\n",
       " 'DewPoint': array([51, 42, 40, 41, 38, 39, 30, 58, 57, 59, 60, 52, 44, 36, 37, 33, 32,\n",
       "        47, 45, 56, 43, 31, 50, 46, 49, 48, 54, 53, 55, 61, 63, 62, 64, 65,\n",
       "        66, 67, 69, 70, 68, 71, 72, 73, 35, 34, 29, 27, 28, 23, 24, 25, 22,\n",
       "        26, 75, 74]),\n",
       " 'WetBulb': array(['56', '57', '47', '48', '50', '49', '46', '54', '53', '62', '63',\n",
       "        '60', '61', '51', '59', '58', '43', '44', '45', '65', '66', '67',\n",
       "        '64', '52', '55', '69', '68', '70', '72', '71', '73', '74', '76',\n",
       "        '42', '39', '40', '41', '35', '33', '34', 'M', '75', '36', '32',\n",
       "        '38', '78', '77', '37'], dtype=object),\n",
       " 'Heat': array(['0', '14', '13', '9', '7', 'M', '5', '6', '4', '10', '8', '12',\n",
       "        '3', '2', '1', '15', '16', '19', '17', '20', '11', '18', '21',\n",
       "        '25', '24', '27', '26', '23', '28', '22', '29'], dtype=object),\n",
       " 'Cool': array([' 2', ' 3', ' 0', 'M', ' 5', ' 4', ' 6', ' 8', ' 7', ' 9', '10',\n",
       "        '13', '11', '12', ' 1', '15', '16', '17', '14', '20', '19', '18',\n",
       "        '21', '22', '24', '27', '23', '26', '28', '29', '25'], dtype=object),\n",
       " 'Sunrise': array(['0448', '-', '0447', '0446', '0444', '0443', '0442', '0441',\n",
       "        '0439', '0438', '0437', '0436', '0435', '0434', '0433', '0432',\n",
       "        '0431', '0430', '0429', '0428', '0427', '0426', '0425', '0424',\n",
       "        '0423', '0422', '0421', '0420', '0419', '0418', '0417', '0416',\n",
       "        '0440', '0445', '0449', '0450', '0451', '0452', '0453', '0454',\n",
       "        '0455', '0456', '0457', '0458', '0459', '0500', '0501', '0502',\n",
       "        '0503', '0504', '0505', '0506', '0508', '0509', '0510', '0511',\n",
       "        '0512', '0513', '0514', '0515', '0516', '0517', '0518', '0519',\n",
       "        '0520', '0521', '0522', '0523', '0524', '0525', '0526', '0527',\n",
       "        '0528', '0529', '0530', '0531', '0532', '0533', '0535', '0536',\n",
       "        '0537', '0538', '0539', '0540', '0541', '0542', '0543', '0544',\n",
       "        '0545', '0546', '0547', '0548', '0549', '0550', '0552', '0553',\n",
       "        '0554', '0555', '0556', '0557', '0558', '0559', '0600', '0602',\n",
       "        '0603', '0604', '0605', '0606', '0607', '0608', '0610', '0611',\n",
       "        '0612', '0613', '0614', '0616', '0617', '0618', '0619', '0620',\n",
       "        '0622', '0623'], dtype=object),\n",
       " 'Sunset': array(['1849', '-', '1850', '1851', '1852', '1853', '1855', '1856',\n",
       "        '1857', '1858', '1859', '1860', '1901', '1902', '1903', '1904',\n",
       "        '1905', '1906', '1907', '1908', '1909', '1910', '1911', '1912',\n",
       "        '1913', '1914', '1915', '1916', '1917', '1918', '1919', '1920',\n",
       "        '1921', '1922', '1923', '1924', '1925', '1926', '1927', '1928',\n",
       "        '1929', '1930', '1931', '1900', '1854', '1848', '1846', '1845',\n",
       "        '1843', '1842', '1840', '1839', '1837', '1835', '1834', '1832',\n",
       "        '1831', '1829', '1827', '1826', '1824', '1822', '1821', '1819',\n",
       "        '1817', '1815', '1814', '1812', '1810', '1809', '1807', '1805',\n",
       "        '1803', '1760', '1758', '1756', '1755', '1753', '1751', '1749',\n",
       "        '1748', '1746', '1744', '1742', '1741', '1739', '1737', '1735',\n",
       "        '1734', '1732', '1730', '1729', '1727', '1725', '1724', '1722',\n",
       "        '1720', '1719', '1717', '1715', '1714', '1712', '1711', '1709',\n",
       "        '1707', '1706', '1704', '1703', '1701', '1660', '1658', '1657',\n",
       "        '1656', '1654', '1653', '1651', '1650', '1649', '1647'],\n",
       "       dtype=object),\n",
       " 'CodeSum': array([' ', 'BR', 'BR HZ', 'HZ', 'RA', 'RA BR', 'TSRA RA BR', 'RA VCTS',\n",
       "        'TSRA RA', 'RA HZ', 'TSRA RA BR HZ', 'TSRA BR HZ', 'RA BR HZ VCTS',\n",
       "        'TSRA RA HZ', 'TSRA BR HZ VCTS', 'TSRA', 'TSRA BR HZ FU',\n",
       "        'TSRA RA HZ FU', 'BR HZ FU', 'TSRA RA VCTS', 'HZ VCTS', 'TSRA HZ',\n",
       "        'VCTS', 'RA BR VCTS', 'TSRA RA BR VCTS', 'TS TSRA RA BR HZ VCTS',\n",
       "        'DZ BR', 'TS TSRA RA BR HZ', 'TS TSRA BR HZ', 'RA BR HZ',\n",
       "        'TSRA RA DZ BR HZ', 'TS TSRA RA BR', 'TS RA BR', 'TS TSRA RA',\n",
       "        'TS TSRA RA BR VCTS', 'TS TSRA BR', 'TS RA', 'RA BCFG BR',\n",
       "        'TSRA BR', 'RA DZ FG+ BCFG BR', 'RA FG+ MIFG BR', 'RA DZ',\n",
       "        'RA DZ BR', 'TS TSRA RA HZ', 'TSRA RA FG+ FG BR',\n",
       "        'TSRA DZ FG+ FG BR HZ', 'TS BR', 'RA BR SQ', 'TS TSRA',\n",
       "        'TSRA RA BR HZ VCTS', 'BR VCTS', 'TS', 'FG+ BR HZ', 'RA SN',\n",
       "        'TSRA RA DZ BR', 'DZ BR HZ', 'RA BR FU', 'TS BR HZ', 'DZ',\n",
       "        'FG+ BR', 'FG+ FG BR', 'FG+ MIFG BR', 'TSRA RA FG BR',\n",
       "        'TSRA FG+ BR', 'RA DZ BR HZ', 'RA DZ SN', 'FG+ FG BR HZ',\n",
       "        'TS TSRA RA FG BR', 'BR HZ VCFG', 'TS RA FG+ FG BR',\n",
       "        'TSRA RA FG+ BR', 'RA DZ FG+ FG BR', 'TS TSRA RA VCTS', 'FU',\n",
       "        'TS TSRA VCFG', 'TS TSRA HZ', 'TS TSRA GR RA BR', 'RA FG BR',\n",
       "        'HZ FU', 'RA BR HZ FU', 'MIFG BCFG BR', 'FG+ BCFG BR',\n",
       "        'TSRA RA FG+ FG BR HZ', 'FG+', 'TSRA BR SQ', 'TSRA DZ BR HZ',\n",
       "        'RA BR HZ VCFG', 'RA FG+ BR', 'FG BR HZ', 'TS HZ',\n",
       "        'TS TSRA RA FG BR HZ', 'RA DZ FG+ BR', 'RA DZ FG+ BR HZ',\n",
       "        'TSRA FG+ BR HZ', 'RA BR VCFG', 'TS RA BR HZ', 'BCFG BR',\n",
       "        'RA SN BR'], dtype=object),\n",
       " 'Depth': array(['0', 'M'], dtype=object),\n",
       " 'Water1': array(['M'], dtype=object),\n",
       " 'SnowFall': array(['0.0', 'M', '  T', '0.1'], dtype=object),\n",
       " 'PrecipTotal': array(['0.00', '  T', '0.13', '0.02', '0.38', '0.60', '0.14', '0.07',\n",
       "        '0.11', '0.09', '1.01', '0.28', '0.04', '0.08', '0.01', '0.53',\n",
       "        '0.19', '0.21', '0.32', '0.39', '0.31', '0.42', '0.27', '0.16',\n",
       "        '0.58', '0.93', '0.05', '0.34', '0.15', '0.35', 'M', '0.40',\n",
       "        '0.66', '0.30', '0.24', '0.43', '1.55', '0.92', '0.89', '0.17',\n",
       "        '0.03', '1.43', '0.97', '0.26', '1.31', '0.06', '0.46', '0.29',\n",
       "        '0.23', '0.41', '0.45', '0.83', '1.33', '0.91', '0.48', '0.37',\n",
       "        '0.88', '2.35', '1.96', '0.20', '0.25', '0.18', '0.67', '0.36',\n",
       "        '0.33', '1.28', '0.74', '0.76', '0.71', '0.95', '1.46', '0.12',\n",
       "        '0.52', '0.64', '0.22', '1.24', '0.72', '0.73', '0.65', '1.61',\n",
       "        '1.22', '0.50', '1.05', '2.43', '0.59', '2.90', '2.68', '1.23',\n",
       "        '0.62', '6.64', '3.07', '1.44', '1.75', '0.82', '0.80', '0.86',\n",
       "        '0.63', '0.55', '1.03', '0.70', '1.73', '1.38', '0.44', '1.14',\n",
       "        '1.07', '3.97', '0.87', '0.78', '1.12', '0.68', '0.10', '0.61',\n",
       "        '0.54', '1.19', '0.75', '0.84', '1.29', '0.81', '1.15', '1.49',\n",
       "        '1.57', '1.02', '1.30', '0.51', '0.85', '0.79', '0.77', '2.79',\n",
       "        '3.15', '3.64', '4.73', '1.60', '0.57', '2.24', '1.90', '1.06',\n",
       "        '1.88', '0.69', '2.17', '6.86', '0.49', '1.11', '1.21', '0.90',\n",
       "        '1.34', '0.47', '0.56', '3.66', '1.09', '1.25', '1.35', '2.20',\n",
       "        '1.48', '0.96', '1.16', '1.04', '2.03', '2.09', '1.26', '2.60',\n",
       "        '2.06', '3.31', '2.76', '1.82', '0.98', '1.58', '3.17', '1.18'],\n",
       "       dtype=object),\n",
       " 'StnPressure': array(['29.10', '29.18', '29.38', '29.44', '29.39', '29.46', '29.31',\n",
       "        '29.36', '29.40', '29.57', '29.62', '29.29', '29.21', '29.28',\n",
       "        '29.20', '29.26', '29.33', '29.49', '29.54', '29.55', '29.23',\n",
       "        '29.13', '29.19', '29.53', '29.60', '29.34', '29.41', '29.47',\n",
       "        '29.51', '29.42', '29.43', '29.25', '29.03', '28.82', '28.87',\n",
       "        '28.88', '29.16', '29.07', '28.84', '28.91', '29.24', 'M', '29.30',\n",
       "        '29.12', '29.45', '29.56', '29.32', '29.05', '29.11', '29.06',\n",
       "        '29.22', '29.08', '29.14', '29.37', '29.35', '29.15', '29.17',\n",
       "        '29.48', '29.52', '29.27', '29.50', '28.59', '28.67', '28.75',\n",
       "        '29.02', '29.79', '29.86', '29.63', '29.70', '28.95', '29.01',\n",
       "        '28.79', '28.85', '28.97', '28.89', '28.94', '28.93', '28.98',\n",
       "        '28.96', '29.00', '29.66', '29.09', '28.90', '29.04', '29.59',\n",
       "        '29.65', '29.58', '29.61', '29.64', '29.71', '29.67', '28.80',\n",
       "        '28.73', '29.68', '28.74', '28.55', '28.63', '28.92', '28.99',\n",
       "        '28.81', '28.71', '28.69', '28.77', '28.83'], dtype=object),\n",
       " 'SeaLevel': array(['29.82', '30.09', '30.08', '30.12', '30.05', '30.04', '30.10',\n",
       "        '30.29', '30.28', '30.03', '30.02', '29.94', '29.93', '29.92',\n",
       "        '29.91', '30.20', '30.19', '30.24', '29.97', '29.98', '29.84',\n",
       "        '29.83', '30.27', '30.25', '30.26', '30.11', '30.06', '30.23',\n",
       "        '30.15', '30.14', '30.00', '29.99', '29.90', '29.77', '29.76',\n",
       "        '29.56', '29.54', '29.52', '29.51', '29.79', '29.78', '29.81',\n",
       "        '29.55', '29.85', '30.07', '30.16', 'M', '29.96', '29.95', '30.13',\n",
       "        '30.21', '30.22', '29.88', '30.01', '29.80', '29.89', '29.74',\n",
       "        '29.87', '29.86', '30.18', '30.17', '29.34', '29.44', '29.45',\n",
       "        '29.71', '29.72', '30.52', '30.53', '30.40', '30.41', '29.67',\n",
       "        '29.53', '29.69', '29.61', '29.64', '29.63', '29.66', '29.70',\n",
       "        '30.34', '30.33', '29.62', '29.60', '29.75', '29.68', '29.73',\n",
       "        '30.31', '30.30', '30.32', '30.37', '30.39', '29.59', '29.65',\n",
       "        '30.35', '30.36', '29.48', '30.38', '29.50', '29.25', '29.23',\n",
       "        '29.46', '29.43', '29.47'], dtype=object),\n",
       " 'ResultSpeed': array([ 1.7,  2.7, 13. , 13.3, 11.7, 12.9, 10.4, 10.1, 11.2, 14.4, 13.8,\n",
       "         8.6,  8.5,  2.5,  3.9,  0.7,  2. , 11.3, 12.4, 12.7,  6.6,  6.4,\n",
       "        16.9, 14.1,  8.1,  7.8,  8. , 10.5,  5.4,  3.4, 11.1,  6.3, 10. ,\n",
       "        11.4, 10.9, 14.9,  4.9,  4.5,  2.8,  8.9,  8.2,  4.8,  4.7,  5.8,\n",
       "        10.3,  9.7,  9.3,  4.2,  6.5,  7.5,  5.2,  7.9,  6.2, 10.8,  9.6,\n",
       "        22.7, 20.3,  0.3,  2.4,  4.6,  8.3,  9.4,  7.2,  7. ,  5.6,  5.9,\n",
       "         4.1,  3.8,  2.1,  4. , 14. , 12.2, 10.7,  3.5,  3.7,  7.6,  7.3,\n",
       "         6.1, 11.9,  7.4,  5.1,  9.5,  6.7,  3.1,  4.3,  3.2,  3.3,  8.4,\n",
       "        12.6,  8.8,  9.1,  1.4,  1.2,  4.4,  7.7,  1.9,  2.9,  1.1,  3. ,\n",
       "        10.6,  5.5,  5.7,  1.6,  2.6,  1.5,  6.9,  3.6,  6. ,  0.5,  5.3,\n",
       "         9. ,  2.2, 12.8,  9.2, 12.1,  1.8,  7.1,  6.8, 12.5,  5. ,  9.8,\n",
       "         2.3, 11.5, 15.1, 14.6, 17.2, 15.5, 16.2, 17.7, 18. , 16.7, 16. ,\n",
       "        13.9, 14.5, 10.2, 14.3, 13.7, 19.2, 13.2, 21.1, 11.8, 16.1, 14.8,\n",
       "         8.7, 11.6, 13.6,  1. , 12. , 17.5, 13.4,  9.9, 11. ,  0.2, 13.5,\n",
       "        12.3,  1.3,  0.1,  0.6,  0.8, 19.8, 15.6, 15.7, 15. , 14.7, 15.3,\n",
       "        14.2, 17.4, 16.6, 15.2, 24.1, 21.8, 20.8, 17. , 21.4, 18.8, 13.1,\n",
       "        15.9,  0.9, 15.4, 17.1, 19.6, 15.8, 16.8, 19.4, 19.3, 17.9,  0.4,\n",
       "        16.4, 22.6, 21.7]),\n",
       " 'ResultDir': array([27, 25,  4,  2,  7,  6,  8, 11, 10, 18, 17,  9,  3, 36,  1, 14, 21,\n",
       "        22, 24, 23, 16, 19, 20,  5, 15, 26, 31, 30, 28, 33, 29, 12, 13, 32,\n",
       "        35, 34]),\n",
       " 'AvgSpeed': array(['9.2', '9.6', '13.4', '11.9', '13.2', '10.8', '10.4', '12.0',\n",
       "        '11.5', '15.0', '14.5', '10.5', '9.9', '5.8', '5.4', '6.2', '5.9',\n",
       "        '4.1', '3.9', '12.9', '12.8', '13.0', '8.1', '7.6', '17.3', '14.6',\n",
       "        '12.3', '12.2', '11.8', '11.3', '7.5', '5.5', '11.4', '10.7',\n",
       "        '9.7', '8.2', '7.8', '10.2', '10.6', '11.2', '15.2', '8.8', '7.2',\n",
       "        '9.5', '5.3', '5.2', '6.5', '7.4', '10.1', '6.4', '6.7', '23.1',\n",
       "        '20.7', '13.8', '12.4', '5.0', '4.7', '5.6', '6.9', '8.4', '10.0',\n",
       "        '8.6', 'M', '6.8', '4.9', '6.1', '6.3', '15.1', '12.6', '7.7',\n",
       "        '8.7', '9.0', '8.0', '6.0', '7.1', '8.5', '12.5', '13.3', '8.3',\n",
       "        '7.3', '13.1', '12.7', '10.9', '11.1', '13.9', '6.6', '14.4',\n",
       "        '9.1', '3.3', '3.5', '4.0', '7.0', '9.4', '7.9', '5.7', '4.3',\n",
       "        '4.6', '3.7', '11.7', '4.4', '12.1', '13.5', '13.7', '11.0', '9.8',\n",
       "        '8.9', '10.3', '15.5', '18.9', '17.2', '16.7', '18.0', '18.2',\n",
       "        '16.8', '14.1', '14.7', '4.2', '9.3', '14.3', '17.7', '17.8',\n",
       "        '15.9', '19.3', '17.4', '3.8', '4.8', '14.0', '21.5', '19.5',\n",
       "        '16.3', '5.1', '3.6', '3.2', '4.5', '2.9', '3.1', '2.7', '18.4',\n",
       "        '16.4', '14.8', '11.6', '13.6', '2.4', '2.6', '3.4', '3.0', '2.1',\n",
       "        '20.2', '14.9', '16.2', '15.4', '17.9', '14.2', '15.3', '15.7',\n",
       "        '16.1', '18.8', '17.1', '16.6', '26.3', '21.4', '23.2', '22.1',\n",
       "        '15.6', '16.9', '2.0', '2.3', '1.7', '19.9', '17.6', '18.5',\n",
       "        '18.1', '16.0', '15.8', '2.8', '1.9', '22.9', '22.6'], dtype=object)}"
      ]
     },
     "execution_count": 14,
     "metadata": {},
     "output_type": "execute_result"
    }
   ],
   "source": [
    "dic = {}\n",
    "for i in weather.columns:\n",
    "    dic[i] = weather[i].unique()\n",
    "    \n",
    "dic"
   ]
  },
  {
   "cell_type": "code",
   "execution_count": 15,
   "metadata": {},
   "outputs": [],
   "source": [
    "drop_weather = ['Depart','Heat','Cool','CodeSum','StnPressure','SeaLevel','ResultSpeed',\n",
    "                'ResultDir','AvgSpeed','SnowFall','Water1','Depth','WetBulb']\n",
    "weather = weather.drop(columns = drop_weather)"
   ]
  },
  {
   "cell_type": "code",
   "execution_count": 16,
   "metadata": {},
   "outputs": [],
   "source": [
    "weather = weather.replace('-',0)\n",
    "weather = weather.replace('  T',0.005)\n",
    "weather = weather.replace('M',0) ## Just for PrecipTotal and there we assume that nothing has been observed\n",
    "weather['Tavg'] = ((weather['Tmax'] + weather['Tmin']) / 2).astype(int)"
   ]
  },
  {
   "cell_type": "code",
   "execution_count": 17,
   "metadata": {},
   "outputs": [
    {
     "data": {
      "text/html": [
       "<div>\n",
       "<style scoped>\n",
       "    .dataframe tbody tr th:only-of-type {\n",
       "        vertical-align: middle;\n",
       "    }\n",
       "\n",
       "    .dataframe tbody tr th {\n",
       "        vertical-align: top;\n",
       "    }\n",
       "\n",
       "    .dataframe thead th {\n",
       "        text-align: right;\n",
       "    }\n",
       "</style>\n",
       "<table border=\"1\" class=\"dataframe\">\n",
       "  <thead>\n",
       "    <tr style=\"text-align: right;\">\n",
       "      <th></th>\n",
       "      <th>Station</th>\n",
       "      <th>Date</th>\n",
       "      <th>Tmax</th>\n",
       "      <th>Tmin</th>\n",
       "      <th>Tavg</th>\n",
       "      <th>DewPoint</th>\n",
       "      <th>Sunrise</th>\n",
       "      <th>Sunset</th>\n",
       "      <th>PrecipTotal</th>\n",
       "    </tr>\n",
       "  </thead>\n",
       "  <tbody>\n",
       "    <tr>\n",
       "      <th>0</th>\n",
       "      <td>1</td>\n",
       "      <td>2007-05-01</td>\n",
       "      <td>83</td>\n",
       "      <td>50</td>\n",
       "      <td>66</td>\n",
       "      <td>51</td>\n",
       "      <td>0448</td>\n",
       "      <td>1849</td>\n",
       "      <td>0.00</td>\n",
       "    </tr>\n",
       "    <tr>\n",
       "      <th>1</th>\n",
       "      <td>2</td>\n",
       "      <td>2007-05-01</td>\n",
       "      <td>84</td>\n",
       "      <td>52</td>\n",
       "      <td>68</td>\n",
       "      <td>51</td>\n",
       "      <td>0</td>\n",
       "      <td>0</td>\n",
       "      <td>0.00</td>\n",
       "    </tr>\n",
       "    <tr>\n",
       "      <th>2</th>\n",
       "      <td>1</td>\n",
       "      <td>2007-05-02</td>\n",
       "      <td>59</td>\n",
       "      <td>42</td>\n",
       "      <td>50</td>\n",
       "      <td>42</td>\n",
       "      <td>0447</td>\n",
       "      <td>1850</td>\n",
       "      <td>0.00</td>\n",
       "    </tr>\n",
       "    <tr>\n",
       "      <th>3</th>\n",
       "      <td>2</td>\n",
       "      <td>2007-05-02</td>\n",
       "      <td>60</td>\n",
       "      <td>43</td>\n",
       "      <td>51</td>\n",
       "      <td>42</td>\n",
       "      <td>0</td>\n",
       "      <td>0</td>\n",
       "      <td>0.00</td>\n",
       "    </tr>\n",
       "    <tr>\n",
       "      <th>4</th>\n",
       "      <td>1</td>\n",
       "      <td>2007-05-03</td>\n",
       "      <td>66</td>\n",
       "      <td>46</td>\n",
       "      <td>56</td>\n",
       "      <td>40</td>\n",
       "      <td>0446</td>\n",
       "      <td>1851</td>\n",
       "      <td>0.00</td>\n",
       "    </tr>\n",
       "  </tbody>\n",
       "</table>\n",
       "</div>"
      ],
      "text/plain": [
       "   Station        Date  Tmax  Tmin  Tavg  DewPoint Sunrise Sunset PrecipTotal\n",
       "0        1  2007-05-01    83    50    66        51    0448   1849        0.00\n",
       "1        2  2007-05-01    84    52    68        51       0      0        0.00\n",
       "2        1  2007-05-02    59    42    50        42    0447   1850        0.00\n",
       "3        2  2007-05-02    60    43    51        42       0      0        0.00\n",
       "4        1  2007-05-03    66    46    56        40    0446   1851        0.00"
      ]
     },
     "execution_count": 17,
     "metadata": {},
     "output_type": "execute_result"
    }
   ],
   "source": [
    "weather.head()"
   ]
  },
  {
   "cell_type": "code",
   "execution_count": 18,
   "metadata": {},
   "outputs": [],
   "source": [
    "for i in weather.columns[2:]:\n",
    "    weather[i] = pd.to_numeric(weather[i])"
   ]
  },
  {
   "cell_type": "code",
   "execution_count": 19,
   "metadata": {},
   "outputs": [],
   "source": [
    "aggregations = {'Tmax': max,\n",
    "               'Tmin': min,\n",
    "               'Tavg': 'mean',\n",
    "               'Sunrise': max,\n",
    "               'Sunset': max,\n",
    "               'DewPoint': max,\n",
    "               'PrecipTotal':max}\n",
    "\n",
    "weather_agg = weather.groupby('Date').agg(aggregations)"
   ]
  },
  {
   "cell_type": "code",
   "execution_count": 20,
   "metadata": {},
   "outputs": [],
   "source": [
    "dayhours = []\n",
    "daymin = []\n",
    "daylen = []\n",
    "for i in range(len(weather_agg)):\n",
    "    number = weather_agg['Sunset'][i] - weather_agg['Sunrise'][i]\n",
    "    dayhours.append(int(str(number)[:2]))\n",
    "    daymin.append(int(str(number)[3:]) / 60)\n",
    "    daylen.append(dayhours[i] + daymin[i])\n",
    "    \n",
    "weather_agg['daylen'] = [ round(elem, 3) for elem in daylen ]\n",
    "weather_agg = weather_agg.drop(columns = ['Sunrise','Sunset'])"
   ]
  },
  {
   "cell_type": "code",
   "execution_count": 21,
   "metadata": {},
   "outputs": [
    {
     "data": {
      "text/html": [
       "<div>\n",
       "<style scoped>\n",
       "    .dataframe tbody tr th:only-of-type {\n",
       "        vertical-align: middle;\n",
       "    }\n",
       "\n",
       "    .dataframe tbody tr th {\n",
       "        vertical-align: top;\n",
       "    }\n",
       "\n",
       "    .dataframe thead th {\n",
       "        text-align: right;\n",
       "    }\n",
       "</style>\n",
       "<table border=\"1\" class=\"dataframe\">\n",
       "  <thead>\n",
       "    <tr style=\"text-align: right;\">\n",
       "      <th></th>\n",
       "      <th>Tmax</th>\n",
       "      <th>Tmin</th>\n",
       "      <th>Tavg</th>\n",
       "      <th>DewPoint</th>\n",
       "      <th>PrecipTotal</th>\n",
       "      <th>daylen</th>\n",
       "    </tr>\n",
       "    <tr>\n",
       "      <th>Date</th>\n",
       "      <th></th>\n",
       "      <th></th>\n",
       "      <th></th>\n",
       "      <th></th>\n",
       "      <th></th>\n",
       "      <th></th>\n",
       "    </tr>\n",
       "  </thead>\n",
       "  <tbody>\n",
       "    <tr>\n",
       "      <th>2007-05-01</th>\n",
       "      <td>84</td>\n",
       "      <td>50</td>\n",
       "      <td>67.0</td>\n",
       "      <td>51</td>\n",
       "      <td>0.000</td>\n",
       "      <td>14.017</td>\n",
       "    </tr>\n",
       "    <tr>\n",
       "      <th>2007-05-02</th>\n",
       "      <td>60</td>\n",
       "      <td>42</td>\n",
       "      <td>50.5</td>\n",
       "      <td>42</td>\n",
       "      <td>0.000</td>\n",
       "      <td>14.050</td>\n",
       "    </tr>\n",
       "    <tr>\n",
       "      <th>2007-05-03</th>\n",
       "      <td>67</td>\n",
       "      <td>46</td>\n",
       "      <td>56.5</td>\n",
       "      <td>40</td>\n",
       "      <td>0.000</td>\n",
       "      <td>14.083</td>\n",
       "    </tr>\n",
       "    <tr>\n",
       "      <th>2007-05-04</th>\n",
       "      <td>78</td>\n",
       "      <td>49</td>\n",
       "      <td>60.5</td>\n",
       "      <td>42</td>\n",
       "      <td>0.005</td>\n",
       "      <td>14.133</td>\n",
       "    </tr>\n",
       "    <tr>\n",
       "      <th>2007-05-05</th>\n",
       "      <td>66</td>\n",
       "      <td>53</td>\n",
       "      <td>59.5</td>\n",
       "      <td>39</td>\n",
       "      <td>0.005</td>\n",
       "      <td>14.000</td>\n",
       "    </tr>\n",
       "  </tbody>\n",
       "</table>\n",
       "</div>"
      ],
      "text/plain": [
       "            Tmax  Tmin  Tavg  DewPoint  PrecipTotal  daylen\n",
       "Date                                                       \n",
       "2007-05-01    84    50  67.0        51        0.000  14.017\n",
       "2007-05-02    60    42  50.5        42        0.000  14.050\n",
       "2007-05-03    67    46  56.5        40        0.000  14.083\n",
       "2007-05-04    78    49  60.5        42        0.005  14.133\n",
       "2007-05-05    66    53  59.5        39        0.005  14.000"
      ]
     },
     "execution_count": 21,
     "metadata": {},
     "output_type": "execute_result"
    }
   ],
   "source": [
    "weather_agg.head()"
   ]
  },
  {
   "cell_type": "code",
   "execution_count": 22,
   "metadata": {},
   "outputs": [
    {
     "data": {
      "text/html": [
       "<div>\n",
       "<style scoped>\n",
       "    .dataframe tbody tr th:only-of-type {\n",
       "        vertical-align: middle;\n",
       "    }\n",
       "\n",
       "    .dataframe tbody tr th {\n",
       "        vertical-align: top;\n",
       "    }\n",
       "\n",
       "    .dataframe thead th {\n",
       "        text-align: right;\n",
       "    }\n",
       "</style>\n",
       "<table border=\"1\" class=\"dataframe\">\n",
       "  <thead>\n",
       "    <tr style=\"text-align: right;\">\n",
       "      <th></th>\n",
       "      <th>Tmax</th>\n",
       "      <th>Tmin</th>\n",
       "      <th>Tavg</th>\n",
       "      <th>DewPoint</th>\n",
       "      <th>PrecipTotal</th>\n",
       "      <th>daylen</th>\n",
       "    </tr>\n",
       "  </thead>\n",
       "  <tbody>\n",
       "    <tr>\n",
       "      <th>count</th>\n",
       "      <td>1472.000000</td>\n",
       "      <td>1472.000000</td>\n",
       "      <td>1472.000000</td>\n",
       "      <td>1472.000000</td>\n",
       "      <td>1472.000000</td>\n",
       "      <td>1472.000000</td>\n",
       "    </tr>\n",
       "    <tr>\n",
       "      <th>mean</th>\n",
       "      <td>76.740489</td>\n",
       "      <td>56.634511</td>\n",
       "      <td>66.736073</td>\n",
       "      <td>54.015625</td>\n",
       "      <td>0.176423</td>\n",
       "      <td>13.288326</td>\n",
       "    </tr>\n",
       "    <tr>\n",
       "      <th>std</th>\n",
       "      <td>11.433218</td>\n",
       "      <td>10.324950</td>\n",
       "      <td>10.490331</td>\n",
       "      <td>10.677290</td>\n",
       "      <td>0.483415</td>\n",
       "      <td>1.569914</td>\n",
       "    </tr>\n",
       "    <tr>\n",
       "      <th>min</th>\n",
       "      <td>42.000000</td>\n",
       "      <td>29.000000</td>\n",
       "      <td>35.500000</td>\n",
       "      <td>23.000000</td>\n",
       "      <td>0.000000</td>\n",
       "      <td>10.000000</td>\n",
       "    </tr>\n",
       "    <tr>\n",
       "      <th>25%</th>\n",
       "      <td>69.000000</td>\n",
       "      <td>49.000000</td>\n",
       "      <td>59.500000</td>\n",
       "      <td>47.000000</td>\n",
       "      <td>0.000000</td>\n",
       "      <td>12.083000</td>\n",
       "    </tr>\n",
       "    <tr>\n",
       "      <th>50%</th>\n",
       "      <td>79.000000</td>\n",
       "      <td>58.000000</td>\n",
       "      <td>68.500000</td>\n",
       "      <td>55.000000</td>\n",
       "      <td>0.005000</td>\n",
       "      <td>14.025000</td>\n",
       "    </tr>\n",
       "    <tr>\n",
       "      <th>75%</th>\n",
       "      <td>85.000000</td>\n",
       "      <td>65.000000</td>\n",
       "      <td>75.000000</td>\n",
       "      <td>62.000000</td>\n",
       "      <td>0.110000</td>\n",
       "      <td>14.150000</td>\n",
       "    </tr>\n",
       "    <tr>\n",
       "      <th>max</th>\n",
       "      <td>104.000000</td>\n",
       "      <td>82.000000</td>\n",
       "      <td>92.500000</td>\n",
       "      <td>75.000000</td>\n",
       "      <td>6.860000</td>\n",
       "      <td>15.150000</td>\n",
       "    </tr>\n",
       "  </tbody>\n",
       "</table>\n",
       "</div>"
      ],
      "text/plain": [
       "              Tmax         Tmin         Tavg     DewPoint  PrecipTotal  \\\n",
       "count  1472.000000  1472.000000  1472.000000  1472.000000  1472.000000   \n",
       "mean     76.740489    56.634511    66.736073    54.015625     0.176423   \n",
       "std      11.433218    10.324950    10.490331    10.677290     0.483415   \n",
       "min      42.000000    29.000000    35.500000    23.000000     0.000000   \n",
       "25%      69.000000    49.000000    59.500000    47.000000     0.000000   \n",
       "50%      79.000000    58.000000    68.500000    55.000000     0.005000   \n",
       "75%      85.000000    65.000000    75.000000    62.000000     0.110000   \n",
       "max     104.000000    82.000000    92.500000    75.000000     6.860000   \n",
       "\n",
       "            daylen  \n",
       "count  1472.000000  \n",
       "mean     13.288326  \n",
       "std       1.569914  \n",
       "min      10.000000  \n",
       "25%      12.083000  \n",
       "50%      14.025000  \n",
       "75%      14.150000  \n",
       "max      15.150000  "
      ]
     },
     "execution_count": 22,
     "metadata": {},
     "output_type": "execute_result"
    }
   ],
   "source": [
    "weather_agg.describe()"
   ]
  },
  {
   "cell_type": "markdown",
   "metadata": {},
   "source": [
    "## Model"
   ]
  },
  {
   "cell_type": "code",
   "execution_count": 23,
   "metadata": {},
   "outputs": [],
   "source": [
    "from sklearn.model_selection import train_test_split\n",
    "from sklearn.ensemble import RandomForestClassifier\n",
    "from sklearn.model_selection import KFold, RandomizedSearchCV\n",
    "from sklearn.metrics import f1_score,roc_curve, auc,confusion_matrix"
   ]
  },
  {
   "cell_type": "code",
   "execution_count": 24,
   "metadata": {},
   "outputs": [
    {
     "name": "stdout",
     "output_type": "stream",
     "text": [
      "The shape of training data is (10506, 14)\n",
      "The shape of test data is (116293, 13)\n"
     ]
    }
   ],
   "source": [
    "new_train = pd.merge(train,weather_agg, on = 'Date', how = 'inner')\n",
    "print(\"The shape of training data is\",new_train.shape)\n",
    "\n",
    "new_test = pd.merge(test,weather_agg, on = 'Date', how = 'inner')\n",
    "print(\"The shape of test data is\",new_test.shape)"
   ]
  },
  {
   "cell_type": "code",
   "execution_count": 25,
   "metadata": {},
   "outputs": [],
   "source": [
    "new_train = new_train.drop(columns = ['Date'])\n",
    "new_test = new_test.drop(columns = ['Date'])"
   ]
  },
  {
   "cell_type": "markdown",
   "metadata": {},
   "source": [
    "One hot encoding of categorical variables to be used in "
   ]
  },
  {
   "cell_type": "code",
   "execution_count": 26,
   "metadata": {},
   "outputs": [],
   "source": [
    "new_train = pd.get_dummies(new_train,columns = ['Species','Trap','Month'])\n",
    "new_test = pd.get_dummies(new_test,columns = ['Species','Trap','Month'])"
   ]
  },
  {
   "cell_type": "code",
   "execution_count": 27,
   "metadata": {},
   "outputs": [
    {
     "data": {
      "text/html": [
       "<div>\n",
       "<style scoped>\n",
       "    .dataframe tbody tr th:only-of-type {\n",
       "        vertical-align: middle;\n",
       "    }\n",
       "\n",
       "    .dataframe tbody tr th {\n",
       "        vertical-align: top;\n",
       "    }\n",
       "\n",
       "    .dataframe thead th {\n",
       "        text-align: right;\n",
       "    }\n",
       "</style>\n",
       "<table border=\"1\" class=\"dataframe\">\n",
       "  <thead>\n",
       "    <tr style=\"text-align: right;\">\n",
       "      <th></th>\n",
       "      <th>Latitude</th>\n",
       "      <th>Longitude</th>\n",
       "      <th>WnvPresent</th>\n",
       "      <th>Day</th>\n",
       "      <th>Tmax</th>\n",
       "      <th>Tmin</th>\n",
       "      <th>Tavg</th>\n",
       "      <th>DewPoint</th>\n",
       "      <th>PrecipTotal</th>\n",
       "      <th>daylen</th>\n",
       "      <th>...</th>\n",
       "      <th>Trap_T237</th>\n",
       "      <th>Trap_T238</th>\n",
       "      <th>Trap_T900</th>\n",
       "      <th>Trap_T903</th>\n",
       "      <th>Month_5</th>\n",
       "      <th>Month_6</th>\n",
       "      <th>Month_7</th>\n",
       "      <th>Month_8</th>\n",
       "      <th>Month_9</th>\n",
       "      <th>Month_10</th>\n",
       "    </tr>\n",
       "  </thead>\n",
       "  <tbody>\n",
       "    <tr>\n",
       "      <th>0</th>\n",
       "      <td>41.954690</td>\n",
       "      <td>-87.800991</td>\n",
       "      <td>0</td>\n",
       "      <td>29</td>\n",
       "      <td>88</td>\n",
       "      <td>60</td>\n",
       "      <td>75.0</td>\n",
       "      <td>59</td>\n",
       "      <td>0.0</td>\n",
       "      <td>14.1</td>\n",
       "      <td>...</td>\n",
       "      <td>0</td>\n",
       "      <td>0</td>\n",
       "      <td>0</td>\n",
       "      <td>0</td>\n",
       "      <td>1</td>\n",
       "      <td>0</td>\n",
       "      <td>0</td>\n",
       "      <td>0</td>\n",
       "      <td>0</td>\n",
       "      <td>0</td>\n",
       "    </tr>\n",
       "    <tr>\n",
       "      <th>1</th>\n",
       "      <td>41.954690</td>\n",
       "      <td>-87.800991</td>\n",
       "      <td>0</td>\n",
       "      <td>29</td>\n",
       "      <td>88</td>\n",
       "      <td>60</td>\n",
       "      <td>75.0</td>\n",
       "      <td>59</td>\n",
       "      <td>0.0</td>\n",
       "      <td>14.1</td>\n",
       "      <td>...</td>\n",
       "      <td>0</td>\n",
       "      <td>0</td>\n",
       "      <td>0</td>\n",
       "      <td>0</td>\n",
       "      <td>1</td>\n",
       "      <td>0</td>\n",
       "      <td>0</td>\n",
       "      <td>0</td>\n",
       "      <td>0</td>\n",
       "      <td>0</td>\n",
       "    </tr>\n",
       "    <tr>\n",
       "      <th>2</th>\n",
       "      <td>41.994991</td>\n",
       "      <td>-87.769279</td>\n",
       "      <td>0</td>\n",
       "      <td>29</td>\n",
       "      <td>88</td>\n",
       "      <td>60</td>\n",
       "      <td>75.0</td>\n",
       "      <td>59</td>\n",
       "      <td>0.0</td>\n",
       "      <td>14.1</td>\n",
       "      <td>...</td>\n",
       "      <td>0</td>\n",
       "      <td>0</td>\n",
       "      <td>0</td>\n",
       "      <td>0</td>\n",
       "      <td>1</td>\n",
       "      <td>0</td>\n",
       "      <td>0</td>\n",
       "      <td>0</td>\n",
       "      <td>0</td>\n",
       "      <td>0</td>\n",
       "    </tr>\n",
       "    <tr>\n",
       "      <th>3</th>\n",
       "      <td>41.974089</td>\n",
       "      <td>-87.824812</td>\n",
       "      <td>0</td>\n",
       "      <td>29</td>\n",
       "      <td>88</td>\n",
       "      <td>60</td>\n",
       "      <td>75.0</td>\n",
       "      <td>59</td>\n",
       "      <td>0.0</td>\n",
       "      <td>14.1</td>\n",
       "      <td>...</td>\n",
       "      <td>0</td>\n",
       "      <td>0</td>\n",
       "      <td>0</td>\n",
       "      <td>0</td>\n",
       "      <td>1</td>\n",
       "      <td>0</td>\n",
       "      <td>0</td>\n",
       "      <td>0</td>\n",
       "      <td>0</td>\n",
       "      <td>0</td>\n",
       "    </tr>\n",
       "    <tr>\n",
       "      <th>4</th>\n",
       "      <td>41.974089</td>\n",
       "      <td>-87.824812</td>\n",
       "      <td>0</td>\n",
       "      <td>29</td>\n",
       "      <td>88</td>\n",
       "      <td>60</td>\n",
       "      <td>75.0</td>\n",
       "      <td>59</td>\n",
       "      <td>0.0</td>\n",
       "      <td>14.1</td>\n",
       "      <td>...</td>\n",
       "      <td>0</td>\n",
       "      <td>0</td>\n",
       "      <td>0</td>\n",
       "      <td>0</td>\n",
       "      <td>1</td>\n",
       "      <td>0</td>\n",
       "      <td>0</td>\n",
       "      <td>0</td>\n",
       "      <td>0</td>\n",
       "      <td>0</td>\n",
       "    </tr>\n",
       "  </tbody>\n",
       "</table>\n",
       "<p>5 rows × 159 columns</p>\n",
       "</div>"
      ],
      "text/plain": [
       "    Latitude  Longitude  WnvPresent  Day  Tmax  Tmin  Tavg  DewPoint  \\\n",
       "0  41.954690 -87.800991           0   29    88    60  75.0        59   \n",
       "1  41.954690 -87.800991           0   29    88    60  75.0        59   \n",
       "2  41.994991 -87.769279           0   29    88    60  75.0        59   \n",
       "3  41.974089 -87.824812           0   29    88    60  75.0        59   \n",
       "4  41.974089 -87.824812           0   29    88    60  75.0        59   \n",
       "\n",
       "   PrecipTotal  daylen    ...     Trap_T237  Trap_T238  Trap_T900  Trap_T903  \\\n",
       "0          0.0    14.1    ...             0          0          0          0   \n",
       "1          0.0    14.1    ...             0          0          0          0   \n",
       "2          0.0    14.1    ...             0          0          0          0   \n",
       "3          0.0    14.1    ...             0          0          0          0   \n",
       "4          0.0    14.1    ...             0          0          0          0   \n",
       "\n",
       "   Month_5  Month_6  Month_7  Month_8  Month_9  Month_10  \n",
       "0        1        0        0        0        0         0  \n",
       "1        1        0        0        0        0         0  \n",
       "2        1        0        0        0        0         0  \n",
       "3        1        0        0        0        0         0  \n",
       "4        1        0        0        0        0         0  \n",
       "\n",
       "[5 rows x 159 columns]"
      ]
     },
     "execution_count": 27,
     "metadata": {},
     "output_type": "execute_result"
    }
   ],
   "source": [
    "new_train.head()"
   ]
  },
  {
   "cell_type": "markdown",
   "metadata": {},
   "source": [
    "Taking into account only the features, that are available for both training and test set"
   ]
  },
  {
   "cell_type": "code",
   "execution_count": 28,
   "metadata": {},
   "outputs": [],
   "source": [
    "y = new_train.pop('WnvPresent')\n",
    "unique_cols = [col for col in new_train.columns if col in new_test.columns]\n",
    "unique_cols2 = [col for col in new_test.columns if col in new_train.columns]\n",
    "\n",
    "X = new_train[unique_cols]\n",
    "test_set = new_test[unique_cols2]"
   ]
  },
  {
   "cell_type": "code",
   "execution_count": 29,
   "metadata": {},
   "outputs": [],
   "source": [
    "X_train, X_test, y_train, y_test = train_test_split(X, y, test_size=0.1)"
   ]
  },
  {
   "cell_type": "markdown",
   "metadata": {},
   "source": [
    "First random forest classifier"
   ]
  },
  {
   "cell_type": "code",
   "execution_count": 30,
   "metadata": {},
   "outputs": [
    {
     "data": {
      "text/plain": [
       "RandomForestClassifier(bootstrap=True, class_weight=None, criterion='gini',\n",
       "            max_depth=None, max_features='auto', max_leaf_nodes=None,\n",
       "            min_impurity_decrease=0.0, min_impurity_split=None,\n",
       "            min_samples_leaf=1, min_samples_split=2,\n",
       "            min_weight_fraction_leaf=0.0, n_estimators=3000, n_jobs=None,\n",
       "            oob_score=False, random_state=None, verbose=0,\n",
       "            warm_start=False)"
      ]
     },
     "execution_count": 30,
     "metadata": {},
     "output_type": "execute_result"
    }
   ],
   "source": [
    "rf1 = RandomForestClassifier(n_estimators=3000)\n",
    "rf1.fit(X_train,y_train)"
   ]
  },
  {
   "cell_type": "markdown",
   "metadata": {},
   "source": [
    "Assigning the hyperparameters to be used in the grid search"
   ]
  },
  {
   "cell_type": "code",
   "execution_count": 55,
   "metadata": {},
   "outputs": [
    {
     "data": {
      "text/plain": [
       "RandomizedSearchCV(cv=5, error_score='raise-deprecating',\n",
       "          estimator=RandomForestClassifier(bootstrap=True, class_weight=None, criterion='gini',\n",
       "            max_depth=None, max_features='auto', max_leaf_nodes=None,\n",
       "            min_impurity_decrease=0.0, min_impurity_split=None,\n",
       "            min_samples_leaf=1, min_samples_split=2,\n",
       "            min_weight_fraction_leaf=0.0, n_estimators='warn', n_jobs=None,\n",
       "            oob_score=False, random_state=None, verbose=0,\n",
       "            warm_start=False),\n",
       "          fit_params=None, iid='warn', n_iter=5, n_jobs=-1,\n",
       "          param_distributions={'n_estimators': [2500, 2666, 2833, 3000, 3166, 3333, 3500, 3666, 3833, 4000], 'max_features': ['auto', 'sqrt'], 'max_depth': [10, 12, 14, 16, 18], 'min_samples_split': [2, 5, 10], 'bootstrap': [True, False], 'class_weight': [{0: 1, 1: 12}]},\n",
       "          pre_dispatch='2*n_jobs', random_state=None, refit=True,\n",
       "          return_train_score='warn', scoring=None, verbose=0)"
      ]
     },
     "execution_count": 55,
     "metadata": {},
     "output_type": "execute_result"
    }
   ],
   "source": [
    "bootstrap = [True, False]\n",
    "n_estimators = [int(x) for x in np.linspace(2500,4000,num = 10)]\n",
    "max_depth = [int(x) for x in np.linspace(10,20, num = 5)]\n",
    "max_features = ['auto','sqrt']\n",
    "min_samples_split = [2, 5, 10]\n",
    "class_weight = [{0:1,1:12}]\n",
    "\n",
    "random_grid = {'n_estimators': n_estimators,\n",
    "               'max_features': max_features,\n",
    "               'max_depth': max_depth,\n",
    "               'min_samples_split': min_samples_split,\n",
    "               'bootstrap': bootstrap,\n",
    "               'class_weight': class_weight}\n",
    "\n",
    "rf = RandomForestClassifier()\n",
    "rf_random = RandomizedSearchCV(estimator = rf, param_distributions = random_grid, n_iter = 5, cv = 5, n_jobs = -1)\n",
    "rf_random.fit(X_train,y_train)"
   ]
  },
  {
   "cell_type": "code",
   "execution_count": 56,
   "metadata": {},
   "outputs": [
    {
     "data": {
      "text/plain": [
       "{'n_estimators': 3833,\n",
       " 'min_samples_split': 10,\n",
       " 'max_features': 'auto',\n",
       " 'max_depth': 16,\n",
       " 'class_weight': {0: 1, 1: 12},\n",
       " 'bootstrap': True}"
      ]
     },
     "execution_count": 56,
     "metadata": {},
     "output_type": "execute_result"
    }
   ],
   "source": [
    "rf_random.best_params_"
   ]
  },
  {
   "cell_type": "markdown",
   "metadata": {},
   "source": [
    "## Model evaluation"
   ]
  },
  {
   "cell_type": "code",
   "execution_count": 57,
   "metadata": {},
   "outputs": [
    {
     "data": {
      "text/plain": [
       "array([[979,  10],\n",
       "       [ 58,   4]])"
      ]
     },
     "execution_count": 57,
     "metadata": {},
     "output_type": "execute_result"
    }
   ],
   "source": [
    "y_score1 = rf1.predict_proba(X_test)[:,1]\n",
    "y_pred1 = rf1.predict(X_test)\n",
    "\n",
    "conf1 = confusion_matrix(y_test,y_pred1)# a lot of false negatives due to class imbalance\n",
    "conf1\n"
   ]
  },
  {
   "cell_type": "code",
   "execution_count": 48,
   "metadata": {},
   "outputs": [
    {
     "data": {
      "text/plain": [
       "0.7721060699957598"
      ]
     },
     "execution_count": 48,
     "metadata": {},
     "output_type": "execute_result"
    }
   ],
   "source": [
    "fpr1,tpr1,_ = roc_curve(y_test, y_score1)\n",
    "roc_auc1 = auc(fpr1, tpr1)\n",
    "roc_auc1"
   ]
  },
  {
   "cell_type": "code",
   "execution_count": 58,
   "metadata": {},
   "outputs": [
    {
     "data": {
      "text/plain": [
       "array([[870, 119],\n",
       "       [ 32,  30]])"
      ]
     },
     "execution_count": 58,
     "metadata": {},
     "output_type": "execute_result"
    }
   ],
   "source": [
    "y_score2 = rf_random.predict_proba(X_test)[:,1]\n",
    "y_pred2 = rf_random.predict(X_test)\n",
    "\n",
    "conf2 = confusion_matrix(y_test,y_pred2)# a a lot of false negatives due to class imbalance\n",
    "conf2"
   ]
  },
  {
   "cell_type": "code",
   "execution_count": 50,
   "metadata": {},
   "outputs": [
    {
     "data": {
      "text/plain": [
       "0.5"
      ]
     },
     "execution_count": 50,
     "metadata": {},
     "output_type": "execute_result"
    }
   ],
   "source": [
    "recall = conf2[1,1] / (conf2[1,1] + conf2[1,0])\n",
    "recall"
   ]
  },
  {
   "cell_type": "code",
   "execution_count": 51,
   "metadata": {},
   "outputs": [
    {
     "data": {
      "text/plain": [
       "0.2012987012987013"
      ]
     },
     "execution_count": 51,
     "metadata": {},
     "output_type": "execute_result"
    }
   ],
   "source": [
    "precision = conf2[1,1] / (conf2[1,1] + conf2[0,1])\n",
    "precision"
   ]
  },
  {
   "cell_type": "code",
   "execution_count": 59,
   "metadata": {},
   "outputs": [
    {
     "data": {
      "text/plain": [
       "0.8190743338008415"
      ]
     },
     "execution_count": 59,
     "metadata": {},
     "output_type": "execute_result"
    }
   ],
   "source": [
    "fpr2,tpr2,_ = roc_curve(y_test, y_score2)\n",
    "roc_auc2 = auc(fpr2, tpr2)\n",
    "roc_auc2"
   ]
  },
  {
   "cell_type": "code",
   "execution_count": null,
   "metadata": {},
   "outputs": [],
   "source": []
  },
  {
   "cell_type": "code",
   "execution_count": 53,
   "metadata": {},
   "outputs": [
    {
     "data": {
      "image/png": "[encoded data removed]",
      "text/plain": [
       "<Figure size 432x288 with 1 Axes>"
      ]
     },
     "metadata": {
      "needs_background": "light"
     },
     "output_type": "display_data"
    }
   ],
   "source": [
    "plt.figure()\n",
    "plt.plot(fpr2, tpr2, color='darkorange', label='ROC curve (area = %0.2f)' % roc_auc2)\n",
    "plt.plot([0, 1], [0, 1], linestyle='--')\n",
    "plt.xlim([0.0, 1.0])\n",
    "plt.ylim([0.0, 1.05])\n",
    "plt.xlabel('False Positive Rate')\n",
    "plt.ylabel('True Positive Rate')\n",
    "plt.title('Receiver operating characteristic example')\n",
    "plt.legend(loc=\"lower right\")\n",
    "plt.show()"
   ]
  },
  {
   "cell_type": "code",
   "execution_count": 41,
   "metadata": {},
   "outputs": [
    {
     "data": {
      "text/html": [
       "<div>\n",
       "<style scoped>\n",
       "    .dataframe tbody tr th:only-of-type {\n",
       "        vertical-align: middle;\n",
       "    }\n",
       "\n",
       "    .dataframe tbody tr th {\n",
       "        vertical-align: top;\n",
       "    }\n",
       "\n",
       "    .dataframe thead th {\n",
       "        text-align: right;\n",
       "    }\n",
       "</style>\n",
       "<table border=\"1\" class=\"dataframe\">\n",
       "  <thead>\n",
       "    <tr style=\"text-align: right;\">\n",
       "      <th></th>\n",
       "      <th>importance</th>\n",
       "    </tr>\n",
       "  </thead>\n",
       "  <tbody>\n",
       "    <tr>\n",
       "      <th>daylen</th>\n",
       "      <td>0.108952</td>\n",
       "    </tr>\n",
       "    <tr>\n",
       "      <th>Longitude</th>\n",
       "      <td>0.086220</td>\n",
       "    </tr>\n",
       "    <tr>\n",
       "      <th>Latitude</th>\n",
       "      <td>0.075703</td>\n",
       "    </tr>\n",
       "    <tr>\n",
       "      <th>Tavg</th>\n",
       "      <td>0.066475</td>\n",
       "    </tr>\n",
       "    <tr>\n",
       "      <th>Tmax</th>\n",
       "      <td>0.058682</td>\n",
       "    </tr>\n",
       "    <tr>\n",
       "      <th>DewPoint</th>\n",
       "      <td>0.055911</td>\n",
       "    </tr>\n",
       "    <tr>\n",
       "      <th>Day</th>\n",
       "      <td>0.052919</td>\n",
       "    </tr>\n",
       "    <tr>\n",
       "      <th>Month_8</th>\n",
       "      <td>0.052554</td>\n",
       "    </tr>\n",
       "    <tr>\n",
       "      <th>Tmin</th>\n",
       "      <td>0.050985</td>\n",
       "    </tr>\n",
       "    <tr>\n",
       "      <th>Species_CULEX RESTUANS</th>\n",
       "      <td>0.030910</td>\n",
       "    </tr>\n",
       "    <tr>\n",
       "      <th>PrecipTotal</th>\n",
       "      <td>0.029729</td>\n",
       "    </tr>\n",
       "    <tr>\n",
       "      <th>Species_CULEX PIPIENS</th>\n",
       "      <td>0.027738</td>\n",
       "    </tr>\n",
       "    <tr>\n",
       "      <th>Month_6</th>\n",
       "      <td>0.027131</td>\n",
       "    </tr>\n",
       "    <tr>\n",
       "      <th>Month_7</th>\n",
       "      <td>0.026952</td>\n",
       "    </tr>\n",
       "    <tr>\n",
       "      <th>Species_CULEX PIPIENS/RESTUANS</th>\n",
       "      <td>0.023004</td>\n",
       "    </tr>\n",
       "    <tr>\n",
       "      <th>Month_9</th>\n",
       "      <td>0.013144</td>\n",
       "    </tr>\n",
       "    <tr>\n",
       "      <th>Trap_T900</th>\n",
       "      <td>0.009984</td>\n",
       "    </tr>\n",
       "    <tr>\n",
       "      <th>Trap_T225</th>\n",
       "      <td>0.005984</td>\n",
       "    </tr>\n",
       "    <tr>\n",
       "      <th>Trap_T115</th>\n",
       "      <td>0.005758</td>\n",
       "    </tr>\n",
       "    <tr>\n",
       "      <th>Species_CULEX TERRITANS</th>\n",
       "      <td>0.005465</td>\n",
       "    </tr>\n",
       "  </tbody>\n",
       "</table>\n",
       "</div>"
      ],
      "text/plain": [
       "                                importance\n",
       "daylen                            0.108952\n",
       "Longitude                         0.086220\n",
       "Latitude                          0.075703\n",
       "Tavg                              0.066475\n",
       "Tmax                              0.058682\n",
       "DewPoint                          0.055911\n",
       "Day                               0.052919\n",
       "Month_8                           0.052554\n",
       "Tmin                              0.050985\n",
       "Species_CULEX RESTUANS            0.030910\n",
       "PrecipTotal                       0.029729\n",
       "Species_CULEX PIPIENS             0.027738\n",
       "Month_6                           0.027131\n",
       "Month_7                           0.026952\n",
       "Species_CULEX PIPIENS/RESTUANS    0.023004\n",
       "Month_9                           0.013144\n",
       "Trap_T900                         0.009984\n",
       "Trap_T225                         0.005984\n",
       "Trap_T115                         0.005758\n",
       "Species_CULEX TERRITANS           0.005465"
      ]
     },
     "execution_count": 41,
     "metadata": {},
     "output_type": "execute_result"
    }
   ],
   "source": [
    "feature_importances = pd.DataFrame(rf_random.best_estimator_.feature_importances_,\n",
    "                                   index = X_train.columns, columns = ['importance'])\n",
    "feature_importances.sort_values('importance',ascending=False)[:20]"
   ]
  },
  {
   "cell_type": "code",
   "execution_count": 42,
   "metadata": {},
   "outputs": [],
   "source": [
    "new_train['WnvPresent'] = y"
   ]
  },
  {
   "cell_type": "code",
   "execution_count": 43,
   "metadata": {},
   "outputs": [
    {
     "data": {
      "image/png": "[encoded data removed]",
      "text/plain": [
       "<Figure size 432x288 with 1 Axes>"
      ]
     },
     "metadata": {
      "needs_background": "light"
     },
     "output_type": "display_data"
    }
   ],
   "source": [
    "day_data = new_train.groupby('daylen')['WnvPresent'].sum()\n",
    "day_data = round(day_data,2)\n",
    "plt.figure()\n",
    "day_data.plot(kind='bar')\n",
    "plt.ylim([0.0, 100])\n",
    "plt.xlabel('Day length')\n",
    "plt.ylabel('Number of infected mosquitos')\n",
    "plt.title('Infected mosquitos by day length')\n",
    "plt.show()"
   ]
  },
  {
   "cell_type": "code",
   "execution_count": 44,
   "metadata": {},
   "outputs": [
    {
     "data": {
      "image/png": "[encoded data removed]",
      "text/plain": [
       "<Figure size 432x288 with 1 Axes>"
      ]
     },
     "metadata": {
      "needs_background": "light"
     },
     "output_type": "display_data"
    }
   ],
   "source": [
    "rain_data = new_train.groupby('PrecipTotal')['WnvPresent'].sum()\n",
    "day_data = round(day_data,2)\n",
    "plt.figure()\n",
    "rain_data.plot(kind='bar')\n",
    "plt.ylim([0.0, 300])\n",
    "plt.xlabel('Rain fall')\n",
    "plt.ylabel('Number of infected mosquitos')\n",
    "plt.title('Infected mosquitos by rainfall')\n",
    "plt.show()"
   ]
  },
  {
   "cell_type": "code",
   "execution_count": null,
   "metadata": {},
   "outputs": [],
   "source": []
  },
  {
   "cell_type": "code",
   "execution_count": null,
   "metadata": {},
   "outputs": [],
   "source": []
  },
  {
   "cell_type": "code",
   "execution_count": null,
   "metadata": {},
   "outputs": [],
   "source": []
  },
  {
   "cell_type": "code",
   "execution_count": null,
   "metadata": {},
   "outputs": [],
   "source": []
  },
  {
   "cell_type": "markdown",
   "metadata": {},
   "source": [
    "Submission to kaggle competitions to see how the final model performed on the test set"
   ]
  },
  {
   "cell_type": "code",
   "execution_count": 41,
   "metadata": {},
   "outputs": [],
   "source": [
    "prediction1 = rf1.predict_proba(test_set)\n",
    "prediction2 = rf_random.predict_proba(test_set)"
   ]
  },
  {
   "cell_type": "code",
   "execution_count": 44,
   "metadata": {},
   "outputs": [
    {
     "data": {
      "text/plain": [
       "822"
      ]
     },
     "execution_count": 44,
     "metadata": {},
     "output_type": "execute_result"
    }
   ],
   "source": [
    "sum(prediction2[:,1] > 0.5)"
   ]
  },
  {
   "cell_type": "code",
   "execution_count": 45,
   "metadata": {},
   "outputs": [],
   "source": [
    "sample['WnvPresent'] = prediction1[:,1]\n",
    "sample2 = sample\n",
    "sample2['WnvPresent'] = prediction2[:,1]"
   ]
  },
  {
   "cell_type": "code",
   "execution_count": 46,
   "metadata": {},
   "outputs": [],
   "source": [
    "sample.to_csv('sample1.csv',index = False)\n",
    "sample2.to_csv('sample2.csv',index = False)"
   ]
  },
  {
   "cell_type": "markdown",
   "metadata": {},
   "source": [
    "Achieved an AUC of 70% for the test set"
   ]
  },
  {
   "cell_type": "code",
   "execution_count": null,
   "metadata": {},
   "outputs": [],
   "source": []
  }
 ],
 "metadata": {
  "kernelspec": {
   "display_name": "Python 3",
   "language": "python",
   "name": "python3"
  },
  "language_info": {
   "codemirror_mode": {
    "name": "ipython",
    "version": 3
   },
   "file_extension": ".py",
   "mimetype": "text/x-python",
   "name": "python",
   "nbconvert_exporter": "python",
   "pygments_lexer": "ipython3",
   "version": "3.7.1"
  }
 },
 "nbformat": 4,
 "nbformat_minor": 2
}
